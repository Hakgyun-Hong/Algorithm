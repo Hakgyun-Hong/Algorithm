{
  "nbformat": 4,
  "nbformat_minor": 0,
  "metadata": {
    "colab": {
      "provenance": [],
      "authorship_tag": "ABX9TyN6dkEPisvaroAy5jejQq27"
    },
    "kernelspec": {
      "name": "python3",
      "display_name": "Python 3"
    },
    "language_info": {
      "name": "python"
    }
  },
  "cells": [
    {
      "cell_type": "code",
      "execution_count": 1,
      "metadata": {
        "colab": {
          "base_uri": "https://localhost:8080/",
          "height": 290
        },
        "id": "YxkeSx2hjZsb",
        "outputId": "6d8b696b-a706-4e0b-d4c5-532c28fc56ef"
      },
      "outputs": [
        {
          "output_type": "stream",
          "name": "stdout",
          "text": [
            "Looking in indexes: https://pypi.org/simple, https://us-python.pkg.dev/colab-wheels/public/simple/\n",
            "Requirement already satisfied: kaggle in /usr/local/lib/python3.9/dist-packages (1.5.13)\n",
            "Requirement already satisfied: python-dateutil in /usr/local/lib/python3.9/dist-packages (from kaggle) (2.8.2)\n",
            "Requirement already satisfied: certifi in /usr/local/lib/python3.9/dist-packages (from kaggle) (2022.12.7)\n",
            "Requirement already satisfied: python-slugify in /usr/local/lib/python3.9/dist-packages (from kaggle) (8.0.1)\n",
            "Requirement already satisfied: requests in /usr/local/lib/python3.9/dist-packages (from kaggle) (2.27.1)\n",
            "Requirement already satisfied: tqdm in /usr/local/lib/python3.9/dist-packages (from kaggle) (4.65.0)\n",
            "Requirement already satisfied: six>=1.10 in /usr/local/lib/python3.9/dist-packages (from kaggle) (1.16.0)\n",
            "Requirement already satisfied: urllib3 in /usr/local/lib/python3.9/dist-packages (from kaggle) (1.26.15)\n",
            "Requirement already satisfied: text-unidecode>=1.3 in /usr/local/lib/python3.9/dist-packages (from python-slugify->kaggle) (1.3)\n",
            "Requirement already satisfied: charset-normalizer~=2.0.0 in /usr/local/lib/python3.9/dist-packages (from requests->kaggle) (2.0.12)\n",
            "Requirement already satisfied: idna<4,>=2.5 in /usr/local/lib/python3.9/dist-packages (from requests->kaggle) (3.4)\n"
          ]
        },
        {
          "output_type": "display_data",
          "data": {
            "text/plain": [
              "<IPython.core.display.HTML object>"
            ],
            "text/html": [
              "\n",
              "     <input type=\"file\" id=\"files-264d4a52-a6dc-4dfd-a8f8-bf2c4713121c\" name=\"files[]\" multiple disabled\n",
              "        style=\"border:none\" />\n",
              "     <output id=\"result-264d4a52-a6dc-4dfd-a8f8-bf2c4713121c\">\n",
              "      Upload widget is only available when the cell has been executed in the\n",
              "      current browser session. Please rerun this cell to enable.\n",
              "      </output>\n",
              "      <script>// Copyright 2017 Google LLC\n",
              "//\n",
              "// Licensed under the Apache License, Version 2.0 (the \"License\");\n",
              "// you may not use this file except in compliance with the License.\n",
              "// You may obtain a copy of the License at\n",
              "//\n",
              "//      http://www.apache.org/licenses/LICENSE-2.0\n",
              "//\n",
              "// Unless required by applicable law or agreed to in writing, software\n",
              "// distributed under the License is distributed on an \"AS IS\" BASIS,\n",
              "// WITHOUT WARRANTIES OR CONDITIONS OF ANY KIND, either express or implied.\n",
              "// See the License for the specific language governing permissions and\n",
              "// limitations under the License.\n",
              "\n",
              "/**\n",
              " * @fileoverview Helpers for google.colab Python module.\n",
              " */\n",
              "(function(scope) {\n",
              "function span(text, styleAttributes = {}) {\n",
              "  const element = document.createElement('span');\n",
              "  element.textContent = text;\n",
              "  for (const key of Object.keys(styleAttributes)) {\n",
              "    element.style[key] = styleAttributes[key];\n",
              "  }\n",
              "  return element;\n",
              "}\n",
              "\n",
              "// Max number of bytes which will be uploaded at a time.\n",
              "const MAX_PAYLOAD_SIZE = 100 * 1024;\n",
              "\n",
              "function _uploadFiles(inputId, outputId) {\n",
              "  const steps = uploadFilesStep(inputId, outputId);\n",
              "  const outputElement = document.getElementById(outputId);\n",
              "  // Cache steps on the outputElement to make it available for the next call\n",
              "  // to uploadFilesContinue from Python.\n",
              "  outputElement.steps = steps;\n",
              "\n",
              "  return _uploadFilesContinue(outputId);\n",
              "}\n",
              "\n",
              "// This is roughly an async generator (not supported in the browser yet),\n",
              "// where there are multiple asynchronous steps and the Python side is going\n",
              "// to poll for completion of each step.\n",
              "// This uses a Promise to block the python side on completion of each step,\n",
              "// then passes the result of the previous step as the input to the next step.\n",
              "function _uploadFilesContinue(outputId) {\n",
              "  const outputElement = document.getElementById(outputId);\n",
              "  const steps = outputElement.steps;\n",
              "\n",
              "  const next = steps.next(outputElement.lastPromiseValue);\n",
              "  return Promise.resolve(next.value.promise).then((value) => {\n",
              "    // Cache the last promise value to make it available to the next\n",
              "    // step of the generator.\n",
              "    outputElement.lastPromiseValue = value;\n",
              "    return next.value.response;\n",
              "  });\n",
              "}\n",
              "\n",
              "/**\n",
              " * Generator function which is called between each async step of the upload\n",
              " * process.\n",
              " * @param {string} inputId Element ID of the input file picker element.\n",
              " * @param {string} outputId Element ID of the output display.\n",
              " * @return {!Iterable<!Object>} Iterable of next steps.\n",
              " */\n",
              "function* uploadFilesStep(inputId, outputId) {\n",
              "  const inputElement = document.getElementById(inputId);\n",
              "  inputElement.disabled = false;\n",
              "\n",
              "  const outputElement = document.getElementById(outputId);\n",
              "  outputElement.innerHTML = '';\n",
              "\n",
              "  const pickedPromise = new Promise((resolve) => {\n",
              "    inputElement.addEventListener('change', (e) => {\n",
              "      resolve(e.target.files);\n",
              "    });\n",
              "  });\n",
              "\n",
              "  const cancel = document.createElement('button');\n",
              "  inputElement.parentElement.appendChild(cancel);\n",
              "  cancel.textContent = 'Cancel upload';\n",
              "  const cancelPromise = new Promise((resolve) => {\n",
              "    cancel.onclick = () => {\n",
              "      resolve(null);\n",
              "    };\n",
              "  });\n",
              "\n",
              "  // Wait for the user to pick the files.\n",
              "  const files = yield {\n",
              "    promise: Promise.race([pickedPromise, cancelPromise]),\n",
              "    response: {\n",
              "      action: 'starting',\n",
              "    }\n",
              "  };\n",
              "\n",
              "  cancel.remove();\n",
              "\n",
              "  // Disable the input element since further picks are not allowed.\n",
              "  inputElement.disabled = true;\n",
              "\n",
              "  if (!files) {\n",
              "    return {\n",
              "      response: {\n",
              "        action: 'complete',\n",
              "      }\n",
              "    };\n",
              "  }\n",
              "\n",
              "  for (const file of files) {\n",
              "    const li = document.createElement('li');\n",
              "    li.append(span(file.name, {fontWeight: 'bold'}));\n",
              "    li.append(span(\n",
              "        `(${file.type || 'n/a'}) - ${file.size} bytes, ` +\n",
              "        `last modified: ${\n",
              "            file.lastModifiedDate ? file.lastModifiedDate.toLocaleDateString() :\n",
              "                                    'n/a'} - `));\n",
              "    const percent = span('0% done');\n",
              "    li.appendChild(percent);\n",
              "\n",
              "    outputElement.appendChild(li);\n",
              "\n",
              "    const fileDataPromise = new Promise((resolve) => {\n",
              "      const reader = new FileReader();\n",
              "      reader.onload = (e) => {\n",
              "        resolve(e.target.result);\n",
              "      };\n",
              "      reader.readAsArrayBuffer(file);\n",
              "    });\n",
              "    // Wait for the data to be ready.\n",
              "    let fileData = yield {\n",
              "      promise: fileDataPromise,\n",
              "      response: {\n",
              "        action: 'continue',\n",
              "      }\n",
              "    };\n",
              "\n",
              "    // Use a chunked sending to avoid message size limits. See b/62115660.\n",
              "    let position = 0;\n",
              "    do {\n",
              "      const length = Math.min(fileData.byteLength - position, MAX_PAYLOAD_SIZE);\n",
              "      const chunk = new Uint8Array(fileData, position, length);\n",
              "      position += length;\n",
              "\n",
              "      const base64 = btoa(String.fromCharCode.apply(null, chunk));\n",
              "      yield {\n",
              "        response: {\n",
              "          action: 'append',\n",
              "          file: file.name,\n",
              "          data: base64,\n",
              "        },\n",
              "      };\n",
              "\n",
              "      let percentDone = fileData.byteLength === 0 ?\n",
              "          100 :\n",
              "          Math.round((position / fileData.byteLength) * 100);\n",
              "      percent.textContent = `${percentDone}% done`;\n",
              "\n",
              "    } while (position < fileData.byteLength);\n",
              "  }\n",
              "\n",
              "  // All done.\n",
              "  yield {\n",
              "    response: {\n",
              "      action: 'complete',\n",
              "    }\n",
              "  };\n",
              "}\n",
              "\n",
              "scope.google = scope.google || {};\n",
              "scope.google.colab = scope.google.colab || {};\n",
              "scope.google.colab._files = {\n",
              "  _uploadFiles,\n",
              "  _uploadFilesContinue,\n",
              "};\n",
              "})(self);\n",
              "</script> "
            ]
          },
          "metadata": {}
        },
        {
          "output_type": "stream",
          "name": "stdout",
          "text": [
            "Saving kaggle.json to kaggle.json\n"
          ]
        },
        {
          "output_type": "execute_result",
          "data": {
            "text/plain": [
              "{'kaggle.json': b'{\"username\":\"hakgyunhong\",\"key\":\"50913cd2335ebf13e16010fcf0c55c45\"}'}"
            ]
          },
          "metadata": {},
          "execution_count": 1
        }
      ],
      "source": [
        "!pip install kaggle\n",
        "from google.colab import files\n",
        "files.upload()"
      ]
    },
    {
      "cell_type": "code",
      "source": [
        "!mkdir -p ~/.kaggle\n",
        "!cp kaggle.json ~/.kaggle\n",
        "!chmod 600 ~/.kaggle/kaggle.json"
      ],
      "metadata": {
        "id": "qX4NykdTjqmN"
      },
      "execution_count": 2,
      "outputs": []
    },
    {
      "cell_type": "code",
      "source": [
        "#!kaggle datasets download -d fedesoriano/wind-speed-prediction-dataset\n",
        "!kaggle datasets download -d nageshsingh/englishportuguese-translation"
      ],
      "metadata": {
        "colab": {
          "base_uri": "https://localhost:8080/"
        },
        "id": "QUWs1PoZjqTf",
        "outputId": "5231b39f-c2be-4bf6-8bcd-8a08a97c88e8"
      },
      "execution_count": 3,
      "outputs": [
        {
          "output_type": "stream",
          "name": "stdout",
          "text": [
            "Downloading englishportuguese-translation.zip to /content\n",
            "\r  0% 0.00/5.41M [00:00<?, ?B/s]\n",
            "\r100% 5.41M/5.41M [00:00<00:00, 109MB/s]\n"
          ]
        }
      ]
    },
    {
      "cell_type": "code",
      "source": [
        "!unzip englishportuguese-translation.zip\n",
        "!ls"
      ],
      "metadata": {
        "colab": {
          "base_uri": "https://localhost:8080/"
        },
        "id": "GeT90973jwG3",
        "outputId": "fc0b4f6e-cdfa-4830-c301-6e6a2512280f"
      },
      "execution_count": 4,
      "outputs": [
        {
          "output_type": "stream",
          "name": "stdout",
          "text": [
            "Archive:  englishportuguese-translation.zip\n",
            "  inflating: por.txt                 \n",
            "englishportuguese-translation.zip  kaggle.json\tpor.txt  sample_data\n"
          ]
        }
      ]
    },
    {
      "cell_type": "markdown",
      "source": [
        "**Attention**\n",
        "> - Attention is an interface between the encoder and decoder that provides decoder with information from every encoder hidden state.\n",
        "\n",
        "> - With this setting, the model is able to selectively focus on useful parts of the input sequence and hence, learn the alignment between them\n",
        "\n",
        "> - Maybe this help the model to cope effectively with long input sentences."
      ],
      "metadata": {
        "id": "jsl-RKc0jzb1"
      }
    },
    {
      "cell_type": "code",
      "source": [
        "import pandas as pd\n",
        "import tensorflow as tf\n",
        "\n",
        "import matplotlib.pyplot as plt\n",
        "from sklearn.model_selection import train_test_split\n",
        "\n",
        "import unicodedata\n",
        "import re\n",
        "import numpy as np\n",
        "import time\n",
        "import string\n",
        "\n",
        "import os"
      ],
      "metadata": {
        "id": "f1J1VuvincY-"
      },
      "execution_count": 5,
      "outputs": []
    },
    {
      "cell_type": "code",
      "source": [
        "file_path = '/content/por.txt'"
      ],
      "metadata": {
        "id": "S8FU_Fuho8Rt"
      },
      "execution_count": 6,
      "outputs": []
    },
    {
      "cell_type": "code",
      "source": [
        "lines = open(file_path, encoding='UTF-8').read().strip().split('\\n')\n",
        "lines[5000:5010]"
      ],
      "metadata": {
        "colab": {
          "base_uri": "https://localhost:8080/"
        },
        "id": "XVpO_E6kpQtp",
        "outputId": "2b78e523-8b31-4d87-e0db-091edd03a5d9"
      },
      "execution_count": 7,
      "outputs": [
        {
          "output_type": "execute_result",
          "data": {
            "text/plain": [
              "['Will it rain?\\tSerá que chove?\\tCC-BY 2.0 (France) Attribution: tatoeba.org #8918600 (CK) & #8930552 (JGEN)',\n",
              " 'Wish me luck.\\tDeseje-me sorte.\\tCC-BY 2.0 (France) Attribution: tatoeba.org #2254917 (CK) & #872788 (alexmarcelo)',\n",
              " \"Won't you go?\\tVocê não vai?\\tCC-BY 2.0 (France) Attribution: tatoeba.org #241051 (CK) & #6212788 (bill)\",\n",
              " 'Write in ink.\\tEscreva à tinta.\\tCC-BY 2.0 (France) Attribution: tatoeba.org #3258764 (CM) & #7351595 (alexmarcelo)',\n",
              " 'Write in ink.\\tEscreva a tinta.\\tCC-BY 2.0 (France) Attribution: tatoeba.org #3258764 (CM) & #7351606 (alexmarcelo)',\n",
              " 'Write to Tom.\\tEscreva para o Tom.\\tCC-BY 2.0 (France) Attribution: tatoeba.org #2240357 (CK) & #5985551 (Ricardo14)',\n",
              " 'Years passed.\\tPassaram os anos.\\tCC-BY 2.0 (France) Attribution: tatoeba.org #282197 (CK) & #977841 (alexmarcelo)',\n",
              " 'Years passed.\\tAnos se passaram.\\tCC-BY 2.0 (France) Attribution: tatoeba.org #282197 (CK) & #2324530 (Matheus)',\n",
              " 'You amuse me.\\tVocê me diverte.\\tCC-BY 2.0 (France) Attribution: tatoeba.org #268209 (CM) & #1199960 (alexmarcelo)',\n",
              " 'You are late.\\tVocê está atrasado.\\tCC-BY 2.0 (France) Attribution: tatoeba.org #277403 (CK) & #1275547 (alexmarcelo)']"
            ]
          },
          "metadata": {},
          "execution_count": 7
        }
      ]
    },
    {
      "cell_type": "code",
      "source": [
        "print(\"total number of records: \", len(lines))"
      ],
      "metadata": {
        "colab": {
          "base_uri": "https://localhost:8080/"
        },
        "id": "fO8o5Di4panh",
        "outputId": "f0e3faf8-ff82-4c57-bffd-be8190b83522"
      },
      "execution_count": 8,
      "outputs": [
        {
          "output_type": "stream",
          "name": "stdout",
          "text": [
            "total number of records:  168903\n"
          ]
        }
      ]
    },
    {
      "cell_type": "code",
      "source": [
        "exclude = set(string.punctuation)\n",
        "# Set of all special characters.\n",
        "remove_digits = str.maketrans('','',string.digits)\n",
        "# Set of all digits."
      ],
      "metadata": {
        "id": "9yslIdGFplF_"
      },
      "execution_count": 9,
      "outputs": []
    },
    {
      "cell_type": "markdown",
      "source": [
        "# Function to preprocess English sentence"
      ],
      "metadata": {
        "id": "CTdPL_1wqnTy"
      }
    },
    {
      "cell_type": "code",
      "source": [
        "def preprocess_eng_sentence(sent):\n",
        "  '''\n",
        "  Function to preprocess English Sentence\n",
        "  '''\n",
        "\n",
        "  sent = sent.lower()\n",
        "  # lower Casing\n",
        "\n",
        "  sent = re.sub(\"'\",'',sent)\n",
        "  # Remove quotation mark.\n",
        "\n",
        "  sent = ''.join(ch for ch in sent if ch not in exclude)\n",
        "  sent = sent.translate(remove_digits)\n",
        "  sent = sent.strip()\n",
        "  sent = re.sub(\" +\",\" \",sent)\n",
        "  # Remove extra spaces\n",
        "\n",
        "  sent = '<start> '+sent+' <end>' #add <start> and <end> tokens\n",
        "  return sent\n"
      ],
      "metadata": {
        "id": "VNtf4V65qk_P"
      },
      "execution_count": 10,
      "outputs": []
    },
    {
      "cell_type": "markdown",
      "source": [
        "# Function to preprocess Portuguese sentence"
      ],
      "metadata": {
        "id": "K8Iv7ir2r0pL"
      }
    },
    {
      "cell_type": "code",
      "source": [
        "def preprocess_port_sentence(sent):\n",
        "  '''\n",
        "  Function to preprocess Portuguese sentence\n",
        "  '''\n",
        "\n",
        "  #sent = sent.lower()\n",
        "  # lower Casing\n",
        "\n",
        "  sent = re.sub(\"'\",'',sent)\n",
        "  # Remove quotation mark.\n",
        "\n",
        "  sent = ''.join(ch for ch in sent if ch not in exclude)\n",
        "  #sent = sent.translate(remove_digits)\n",
        "  sent = sent.strip()\n",
        "  sent = re.sub(\" +\",\" \",sent)\n",
        "  # Remove extra spaces\n",
        "\n",
        "  sent = '<start> '+sent+' <end>' #add <start> and <end> tokens\n",
        "  return sent"
      ],
      "metadata": {
        "id": "S8rtkXGxryvV"
      },
      "execution_count": 11,
      "outputs": []
    },
    {
      "cell_type": "markdown",
      "source": [
        "## Generate pairs of cleaned English and Portuguese"
      ],
      "metadata": {
        "id": "HYyAFXtHshbC"
      }
    },
    {
      "cell_type": "code",
      "source": [
        "sent_pairs=[]\n",
        "for line in lines:\n",
        "  sent_pair=[]\n",
        "  eng=line.rstrip().split('\\t')[0]\n",
        "  port=line.rstrip().split('\\t')[1]\n",
        "\n",
        "  eng = preprocess_eng_sentence(eng)\n",
        "  sent_pair.append(eng)\n",
        "\n",
        "  port = preprocess_port_sentence(port)\n",
        "  sent_pair.append(port)\n",
        "  sent_pairs.append(sent_pair)\n",
        "sent_pairs[5000:5010]"
      ],
      "metadata": {
        "colab": {
          "base_uri": "https://localhost:8080/"
        },
        "id": "7Kt5dEcysfuu",
        "outputId": "07b97453-ac4f-4bf3-d5e5-1b829d3d07a5"
      },
      "execution_count": 12,
      "outputs": [
        {
          "output_type": "execute_result",
          "data": {
            "text/plain": [
              "[['<start> will it rain <end>', '<start> Será que chove <end>'],\n",
              " ['<start> wish me luck <end>', '<start> Desejeme sorte <end>'],\n",
              " ['<start> wont you go <end>', '<start> Você não vai <end>'],\n",
              " ['<start> write in ink <end>', '<start> Escreva à tinta <end>'],\n",
              " ['<start> write in ink <end>', '<start> Escreva a tinta <end>'],\n",
              " ['<start> write to tom <end>', '<start> Escreva para o Tom <end>'],\n",
              " ['<start> years passed <end>', '<start> Passaram os anos <end>'],\n",
              " ['<start> years passed <end>', '<start> Anos se passaram <end>'],\n",
              " ['<start> you amuse me <end>', '<start> Você me diverte <end>'],\n",
              " ['<start> you are late <end>', '<start> Você está atrasado <end>']]"
            ]
          },
          "metadata": {},
          "execution_count": 12
        }
      ]
    },
    {
      "cell_type": "markdown",
      "source": [
        "# Create a class to map every word to an index and vice versa for any given vocabulary"
      ],
      "metadata": {
        "id": "xjjdb5-Ct0Rd"
      }
    },
    {
      "cell_type": "code",
      "source": [
        "class LanguageIndex():\n",
        "  def __init__(self, lang):\n",
        "    self.lang = lang\n",
        "    self.word2idx = {}\n",
        "    self.idx2word = {}\n",
        "    self.vocab = set()\n",
        "\n",
        "    self.create_index()\n",
        "\n",
        "  def create_index(self):\n",
        "    for phrase in self.lang:\n",
        "      self.vocab.update(phrase.split(' '))\n",
        "\n",
        "    self.vocab = sorted(self.vocab)\n",
        "    self.word2idx['<pad>']=0\n",
        "    for index, word in enumerate(self.vocab):\n",
        "      self.word2idx[word] = index +1\n",
        "      \n",
        "    for word, index in self.word2idx.items():\n",
        "      self.idx2word[index]=word"
      ],
      "metadata": {
        "id": "fYeyp-untwNI"
      },
      "execution_count": 13,
      "outputs": []
    },
    {
      "cell_type": "markdown",
      "source": [
        "> **LanguageIndex Class**\n",
        "> - lang : init input\n",
        "> - vocab : (set) vocabulary in phrase in self.lang\n",
        "> - word2idx : vocab and each index. This is something like dictionary type\n",
        "> - idx2word : same with word2idx but It is reversed.\n"
      ],
      "metadata": {
        "id": "vm9N5emGNrlC"
      }
    },
    {
      "cell_type": "code",
      "source": [
        "def max_length(tensor):\n",
        "  return max(len(t) for t in tensor)"
      ],
      "metadata": {
        "id": "qKi-TsCjvSdU"
      },
      "execution_count": 14,
      "outputs": []
    },
    {
      "cell_type": "markdown",
      "source": [
        "- This refer suddenly 'tensor' type. But this cover all the data type maybe."
      ],
      "metadata": {
        "id": "1PrfgJivOtj9"
      }
    },
    {
      "cell_type": "markdown",
      "source": [
        "# Tokenization and Padding"
      ],
      "metadata": {
        "id": "xB83Z7agvZlv"
      }
    },
    {
      "cell_type": "code",
      "source": [
        "def load_dataset(pairs, num_examples):\n",
        "  inp_lang = LanguageIndex(en for en, ma in pairs)\n",
        "  targ_lang = LanguageIndex(ma for en,ma in pairs)\n",
        "\n",
        "  input_tensor = [[inp_lang.word2idx[s] for s in en.split(' ')] for en,ma in pairs]\n",
        "  target_tensor = [[targ_lang.word2idx[s] for s in ma.split(' ')] for en,ma in pairs]\n",
        "\n",
        "  # Calculate Max Length from all the data.\n",
        "  max_length_inp, max_length_tar = max_length(input_tensor), max_length(target_tensor)\n",
        "\n",
        "\n",
        "  # Padding the input and output tensor to the maximum length\n",
        "  # We can notice that adding the padding to 'post' side\n",
        "  input_tensor = tf.keras.preprocessing.sequence.pad_sequences(input_tensor,\n",
        "                                                               maxlen=max_length_inp,\n",
        "                                                               padding='post')\n",
        "  target_tensor = tf.keras.preprocessing.sequence.pad_sequences(target_tensor,\n",
        "                                                                maxlen=max_length_tar,\n",
        "                                                                padding='post')\n",
        "  \n",
        "  return input_tensor, target_tensor, inp_lang,targ_lang,max_length_inp,max_length_tar"
      ],
      "metadata": {
        "id": "SI6akRzDvZCH"
      },
      "execution_count": 15,
      "outputs": []
    },
    {
      "cell_type": "code",
      "source": [
        "input_tensor, target_tensor, inp_lang, targ_lang,max_length_inp,max_length_targ = load_dataset(sent_pairs,len(lines))"
      ],
      "metadata": {
        "id": "PHN-8Xjuxmc8"
      },
      "execution_count": 16,
      "outputs": []
    },
    {
      "cell_type": "code",
      "source": [
        "input_tensor_train, input_tensor_val, target_tensor_train, target_tensor_val = train_test_split(input_tensor, target_tensor, test_size=0.1, random_state=101)\n",
        "\n",
        "len(input_tensor_train), len(target_tensor_train), len(input_tensor_val), len(target_tensor_val)"
      ],
      "metadata": {
        "colab": {
          "base_uri": "https://localhost:8080/"
        },
        "id": "B3obkra7yW54",
        "outputId": "399dd84e-daa8-4699-b394-6865012ea971"
      },
      "execution_count": 17,
      "outputs": [
        {
          "output_type": "execute_result",
          "data": {
            "text/plain": [
              "(152012, 152012, 16891, 16891)"
            ]
          },
          "metadata": {},
          "execution_count": 17
        }
      ]
    },
    {
      "cell_type": "code",
      "source": [
        "BUFFER_SIZE = len(input_tensor_train)\n",
        "BATCH_SIZE=64\n",
        "N_BATCH = BUFFER_SIZE//BATCH_SIZE\n",
        "\n",
        "\n",
        "embedding_dim = 256\n",
        "# Traditionally?\n",
        "\n",
        "units=1024\n",
        "vocab_inp_size = len(inp_lang.word2idx)\n",
        "vocab_tar_size = len(targ_lang.word2idx)\n",
        "\n",
        "\n",
        "# **Method for making the dataset**\n",
        "dataset = tf.data.Dataset.from_tensor_slices((input_tensor_train,target_tensor_train)).shuffle(BUFFER_SIZE)\n",
        "dataset = dataset.batch(BATCH_SIZE, drop_remainder=True)"
      ],
      "metadata": {
        "id": "uGMuV4bpzNM7"
      },
      "execution_count": 18,
      "outputs": []
    },
    {
      "cell_type": "markdown",
      "source": [
        "## Create GRU units"
      ],
      "metadata": {
        "id": "qElGPbsAz6Ez"
      }
    },
    {
      "cell_type": "code",
      "source": [
        "def gru(units):\n",
        "  return tf.keras.layers.GRU(units, \n",
        "                             return_sequences=True,\n",
        "                             return_state=True,\n",
        "                             recurrent_activation='sigmoid',\n",
        "                             recurrent_initializer='glorot_uniform')"
      ],
      "metadata": {
        "id": "lmPd2Q_yz3cn"
      },
      "execution_count": 19,
      "outputs": []
    },
    {
      "cell_type": "code",
      "source": [
        "class Encoder(tf.keras.Model):\n",
        "  def __init__(self, vocab_size, embedding_dim, enc_units, batch_sz):\n",
        "    super(Encoder, self).__init__()\n",
        "    self.batch_sz = batch_sz\n",
        "    self.enc_units = enc_units\n",
        "    self.embedding = tf.keras.layers.Embedding(vocab_size,embedding_dim)\n",
        "    self.gru = gru(self.enc_units)\n",
        "\n",
        "  def call(self, x, hidden):\n",
        "    x=self.embedding(x)\n",
        "    output, state = self.gru(x,initial_state=hidden)\n",
        "    return output, state\n",
        "\n",
        "  def initialize_hidden_state(self):\n",
        "    return tf.zeros((self.batch_sz, self.enc_units))"
      ],
      "metadata": {
        "id": "vA067jns06LC"
      },
      "execution_count": 20,
      "outputs": []
    },
    {
      "cell_type": "code",
      "source": [
        "class Decoder(tf.keras.Model):\n",
        "  def __init__(self, vocab_size, embedding_dim, dec_units,batch_sz):\n",
        "    super(Decoder, self).__init__()\n",
        "    self.batch_sz = batch_sz\n",
        "    self.dec_units = dec_units\n",
        "    self.embedding = tf.keras.layers.Embedding(vocab_size, embedding_dim)\n",
        "    self.gru = gru(self.dec_units)\n",
        "    self.fc = tf.keras.layers.Dense(vocab_size)\n",
        "\n",
        "    # used for attention\n",
        "    self.W1 = tf.keras.layers.Dense(self.dec_units)\n",
        "    self.W2 = tf.keras.layers.Dense(self.dec_units)\n",
        "    # Role difference of W1 and W2\n",
        "\n",
        "    self.V = tf.keras.layers.Dense(1)\n",
        "    # What is V in here?\n",
        "    # For make size 1 data.\n",
        "\n",
        "  def call(self, x, hidden, enc_output):\n",
        "    hidden_with_time_axis = tf.expand_dims(hidden,1)\n",
        "\n",
        "    score = self.V(tf.nn.tanh(self.W1(enc_output)+self.W2(hidden_with_time_axis)))\n",
        "    attention_weights = tf.nn.softmax(score,axis=1)\n",
        "\n",
        "    context_vector = attention_weights*enc_output\n",
        "    context_vector = tf.reduce_sum(context_vector,axis=1)\n",
        "\n",
        "    x=self.embedding(x)\n",
        "\n",
        "    x=tf.concat([tf.expand_dims(context_vector,1),x],axis=-1)\n",
        "\n",
        "    output,state=self.gru(x)\n",
        "\n",
        "    # output shape == (batch_size*1, hidden_size)\n",
        "    output=tf.reshape(output,(-1,output.shape[2]))\n",
        "\n",
        "    # output shape == (batch_size*1, vocab)\n",
        "    x=self.fc(output)\n",
        "\n",
        "    return x, state, attention_weights\n",
        "\n",
        "  def initialize_hidden_state(self):\n",
        "    return tf.zeros((self.batch_sz, self.dec_units))\n"
      ],
      "metadata": {
        "id": "INmu1bw62ZAg"
      },
      "execution_count": 32,
      "outputs": []
    },
    {
      "cell_type": "code",
      "source": [
        "encoder = Encoder(vocab_inp_size, embedding_dim, units, BATCH_SIZE)\n",
        "decoder = Decoder(vocab_tar_size, embedding_dim, units, BATCH_SIZE)"
      ],
      "metadata": {
        "id": "3jfUUyY86mLk"
      },
      "execution_count": 33,
      "outputs": []
    },
    {
      "cell_type": "markdown",
      "source": [
        "# Define the optimizer and the loss function"
      ],
      "metadata": {
        "id": "wq2m4yMO7gau"
      }
    },
    {
      "cell_type": "code",
      "source": [
        "optimizer = tf.optimizers.Adam()\n",
        "\n",
        "def loss_function(real, pred):\n",
        "  mask = 1-np.equal(real,0)\n",
        "  loss_ = tf.nn.sparse_softmax_cross_entropy_with_logits(labels=real, logits=pred) * mask\n",
        "  return tf.reduce_mean(loss_)"
      ],
      "metadata": {
        "id": "_Rxotalj6xE5"
      },
      "execution_count": 34,
      "outputs": []
    },
    {
      "cell_type": "code",
      "source": [
        "checkpoint_dir = './training_checkpoints'\n",
        "checkpoint_prefix = os.path.join(checkpoint_dir,\"ckpt\")\n",
        "checkpoint = tf.train.Checkpoint(optimizer=optimizer,\n",
        "                                 encoder=encoder,\n",
        "                                 decoder=decoder)"
      ],
      "metadata": {
        "id": "BU2y0yov8Aqu"
      },
      "execution_count": 35,
      "outputs": []
    },
    {
      "cell_type": "markdown",
      "source": [
        "# Train the Model"
      ],
      "metadata": {
        "id": "wn1XbcyE8Vm8"
      }
    },
    {
      "cell_type": "code",
      "source": [
        "EPOCHS=10\n",
        "\n",
        "for epoch in range(EPOCHS):\n",
        "  start = time.time()\n",
        "\n",
        "  hidden = encoder.initialize_hidden_state()\n",
        "  total_loss=0\n",
        "\n",
        "  for(batch, (inp, targ)) in enumerate(dataset):\n",
        "    loss=0\n",
        "    with tf.GradientTape() as tape:\n",
        "      enc_output, enc_hidden = encoder(inp,hidden)\n",
        "      dec_hidden= enc_hidden\n",
        "      dec_input = tf.expand_dims([targ_lang.word2idx['<start>']]*BATCH_SIZE,1)\n",
        "\n",
        "      for t in range(1, targ.shape[1]):\n",
        "        predictions, dec_hidden, _ = decoder(dec_input, dec_hidden, enc_output)\n",
        "        loss +=loss_function(targ[:,t],predictions)\n",
        "\n",
        "        dec_input = tf.expand_dims(targ[:,t],1)\n",
        "    batch_loss = (loss/int(targ.shape[1]))\n",
        "    total_loss+=batch_loss\n",
        "    variables=encoder.variables + decoder.variables\n",
        "    gradients = tape.gradient(loss, variables)\n",
        "    \n",
        "    optimizer.apply_gradients(zip(gradients,variables))\n",
        "\n",
        "    if batch%100==0:\n",
        "      print('Epoch {} Batch {} Loss {:.4f}'.format(epoch+1,batch,batch_loss.numpy()))\n",
        "  checkpoint.save(file_prefix = checkpoint_prefix)\n",
        "  print('Epoch {} Loss {:.4f}'.format(epoch))\n",
        "  print('Time taken for 1 epoch {} sec\\n'.format(time.time()-start))"
      ],
      "metadata": {
        "colab": {
          "base_uri": "https://localhost:8080/"
        },
        "id": "5xeq_yUi8UOF",
        "outputId": "94de9038-bf76-43d2-b6ab-e7afcb02ad52"
      },
      "execution_count": null,
      "outputs": [
        {
          "metadata": {
            "tags": null
          },
          "name": "stdout",
          "output_type": "stream",
          "text": [
            "Epoch 1 Batch 0 Loss 1.9582\n",
            "Epoch 1 Batch 100 Loss 1.1484\n",
            "Epoch 1 Batch 200 Loss 1.1518\n",
            "Epoch 1 Batch 300 Loss 1.0234\n",
            "Epoch 1 Batch 400 Loss 1.0192\n",
            "Epoch 1 Batch 500 Loss 0.9424\n",
            "Epoch 1 Batch 600 Loss 0.8888\n",
            "Epoch 1 Batch 700 Loss 0.8389\n",
            "Epoch 1 Batch 800 Loss 0.7891\n"
          ]
        }
      ]
    },
    {
      "cell_type": "markdown",
      "source": [
        "# Restoring the latest checkpoint\n"
      ],
      "metadata": {
        "id": "cg55uLkvuPd6"
      }
    },
    {
      "cell_type": "code",
      "source": [
        "checkpoint.restore(tf.train.latest_checkpoint(checkpoint_dir))"
      ],
      "metadata": {
        "id": "c9L1FkobuUSb"
      },
      "execution_count": null,
      "outputs": []
    },
    {
      "cell_type": "markdown",
      "source": [
        "# Inference Setup and testing"
      ],
      "metadata": {
        "id": "RTDmRBwausqW"
      }
    },
    {
      "cell_type": "code",
      "source": [
        "def evaluate(inputs, encoder, decoder, inp_lang, targ_lang, max_length_inp,max_length_targ):\n",
        "  attention_plot=np.zeros((max_length_targ,max_length_inp))\n",
        "  sentence=''\n",
        "  for i in inputs[0]:\n",
        "    if i==0:\n",
        "      break\n",
        "    sentence=sentence+inp_lang_.idx2word + ' '\n",
        "    inputs = tf.convert_to_tensor(inputs)\n",
        "    result=''\n",
        "    hidden=[tf.zeros((1,units))]\n",
        "    enc_out, enc_hidden = encoder(inputs,hidden)\n",
        "\n",
        "    dec_hidden=enc_hidden\n",
        "    dec_input=tf.expand_dims([targ_lang.word2idx['<start>']],0)\n",
        "\n",
        "    for t in range(max_length_targ):\n",
        "      predictions, dec_hidden, attention_weights = decoder(dec_input,dec_hidden,enc_out)\n",
        "\n",
        "      #storing the attention_weights to plot later on\n",
        "      attention_weights = tf.reshape(attention_weights,(-1,))\n",
        "      attention_plot[t]=attention_weights.numpy()\n",
        "\n",
        "      predicted_id=tf.argmax(predictions[0]).numpy()\n",
        "\n",
        "      result+=targ_lang_.idx2word[predicted_id] + ' '\n",
        "\n",
        "      if targ_lang.idx2word[predicted_id] == '<end>':\n",
        "        return result, sentence, attention_plot\n",
        "      \n",
        "      dec_input=tf.expand_dims([predicted_id],0)\n",
        "    return result, sentence, attention_plot\n",
        "    "
      ],
      "metadata": {
        "id": "IuYq2-NZureU"
      },
      "execution_count": null,
      "outputs": []
    },
    {
      "cell_type": "markdown",
      "source": [
        "# Function to predict"
      ],
      "metadata": {
        "id": "VzIvSwIsDEoT"
      }
    },
    {
      "cell_type": "code",
      "source": [
        "def predict_random_val_sentence():\n",
        "  actual_sent= ''\n",
        "  k = np.random.randint(len(input_tensor_val))\n",
        "  random_input = input_tensor_val[k]\n",
        "  random_output = target_tensor_val[k]\n",
        "  random_input = np.expand_dims(random_input,0)\n",
        "  result, sentence, attention_plot = evaluate(random_input, encoder, decoder, inp_lang, targ_lang, max_length_inp, max_length_targ)\n",
        "  print('Input: {}'.format(sentence[8:-6]))\n",
        "  print('Predicted translation: {}'.format(result:[:-6]))\n",
        "\n",
        "  for i in random_output:\n",
        "    if i==0:\n",
        "      break\n",
        "    actual_sent = actual_sent + targ_lang.idx2word[i] + ' '\n",
        "  actual_sent = actual_sent[8:-7]\n",
        "  print('Acutal translation: {}'.format(actual_sent))\n",
        "  attention_plot = attention_plot[:len(result.split(' '))-2, 1:len(sentence.split(' '))-1]\n",
        "  sentence,result = sentence.split(' '), result.split(' ')\n",
        "  sentence = sentence[1:-1]\n",
        "  result = result[:-2]\n",
        "\n",
        "  #use plotly to generate the heat map\n",
        "  trace = go.Heatmap(z=attention_plot, x=sentence, y=result, colorscale='greens')\n",
        "  data=[trace]\n",
        "  iplot(data)\n"
      ],
      "metadata": {
        "id": "aqYo_JrLDGC_"
      },
      "execution_count": null,
      "outputs": []
    },
    {
      "cell_type": "code",
      "source": [
        "predict_random_val_sentence()"
      ],
      "metadata": {
        "id": "OaB19DyHpp2Q"
      },
      "execution_count": null,
      "outputs": []
    }
  ]
}